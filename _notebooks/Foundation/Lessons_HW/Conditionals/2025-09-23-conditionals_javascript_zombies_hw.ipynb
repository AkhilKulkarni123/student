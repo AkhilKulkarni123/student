{
 "cells": [
  {
   "cell_type": "markdown",
   "id": "65acca70",
   "metadata": {
    "vscode": {
     "languageId": "yaml"
    }
   },
   "source": [
    "---\n",
    "layout: default\n",
    "title: ConditionalsJS Homework\n",
    "description: This is Akhil's homework/hacks for the Conditionals lesson for Javascript\n",
    "categories: ['Lessons']\n",
    "permalink: /github/pages/ConditionalsJS_HW\n",
    "breadcrumb: True\n",
    "---"
   ]
  },
  {
   "cell_type": "markdown",
   "id": "3db6febd",
   "metadata": {},
   "source": [
    "## Conditionals Javascript Homework\n",
    "---\n",
    "### Javascript Popcorn Hack\n",
    "Finish the else function in the program. Then run the code cell in the console to see if it works.\n"
   ]
  },
  {
   "cell_type": "code",
   "execution_count": 5,
   "id": "8aa55624",
   "metadata": {
    "vscode": {
     "languageId": "javascript"
    }
   },
   "outputs": [
    {
     "data": {
      "application/javascript": "let snakeDead = true;\n\nif (snakeDead === false) {\n    console.log(\"Continue game\");\n} else { \n    console.log(\"Game over\");\n}\n",
      "text/plain": [
       "<IPython.core.display.Javascript object>"
      ]
     },
     "metadata": {},
     "output_type": "display_data"
    }
   ],
   "source": [
    "%%js\n",
    "let snakeDead = true;\n",
    "\n",
    "if (snakeDead === false) {\n",
    "    console.log(\"Continue game\");\n",
    "} else { \n",
    "    console.log(\"Game over\");\n",
    "}\n"
   ]
  },
  {
   "cell_type": "markdown",
   "id": "63f1787d",
   "metadata": {},
   "source": [
    "### Part C: JavaScript Practice\n",
    "Here you will make a similar program as the Python program but in Javascript.\n",
    "Then change your program so that it prints:\n",
    "- \"Excellent\" if the score is ≥ 90\n",
    "\n",
    "- \"Good\" if the score is between 60 and 89\n",
    "\n",
    "- \"Fail\" if the score is below 60"
   ]
  },
  {
   "cell_type": "code",
   "execution_count": 6,
   "id": "7cddd47f",
   "metadata": {
    "vscode": {
     "languageId": "javascript"
    }
   },
   "outputs": [
    {
     "data": {
      "application/javascript": "\n// <-- Example Code\n\nlet x = 19;\n\nif (x >= 18) {\n    console.log(\"You can vote\");\n} else {\n    console.log(\"You are too young to vote\");\n}\n",
      "text/plain": [
       "<IPython.core.display.Javascript object>"
      ]
     },
     "metadata": {},
     "output_type": "display_data"
    }
   ],
   "source": [
    "%%js \n",
    "\n",
    "// <-- Example Code\n",
    "\n",
    "let x = 19;\n",
    "\n",
    "if (x >= 18) {\n",
    "    console.log(\"You can vote\");\n",
    "} else {\n",
    "    console.log(\"You are too young to vote\");\n",
    "}"
   ]
  },
  {
   "cell_type": "code",
   "execution_count": 7,
   "id": "1172c172",
   "metadata": {
    "vscode": {
     "languageId": "javascript"
    }
   },
   "outputs": [
    {
     "data": {
      "application/javascript": "\n// Do the homework in this code cell\nlet score = 75;  // I changed this value to test different outputs\n\nif (score >= 90) {\n    console.log(\"Excellent\");\n} else if (score >= 60 && score <= 89) {\n    console.log(\"Good\");\n} else {\n    console.log(\"Fail\");\n}\n",
      "text/plain": [
       "<IPython.core.display.Javascript object>"
      ]
     },
     "metadata": {},
     "output_type": "display_data"
    }
   ],
   "source": [
    "%%js \n",
    "\n",
    "// Do the homework in this code cell\n",
    "let score = 75;  // I changed this value to test different outputs\n",
    "\n",
    "if (score >= 90) {\n",
    "    console.log(\"Excellent\");\n",
    "} else if (score >= 60 && score <= 89) {\n",
    "    console.log(\"Good\");\n",
    "} else {\n",
    "    console.log(\"Fail\");\n",
    "}\n"
   ]
  }
 ],
 "metadata": {
  "kernelspec": {
   "display_name": "venv",
   "language": "python",
   "name": "python3"
  },
  "language_info": {
   "codemirror_mode": {
    "name": "ipython",
    "version": 3
   },
   "file_extension": ".py",
   "mimetype": "text/x-python",
   "name": "python",
   "nbconvert_exporter": "python",
   "pygments_lexer": "ipython3",
   "version": "3.9.6"
  }
 },
 "nbformat": 4,
 "nbformat_minor": 5
}
