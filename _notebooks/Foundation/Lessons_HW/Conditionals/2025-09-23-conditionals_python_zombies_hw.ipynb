{
 "cells": [
  {
   "cell_type": "markdown",
   "id": "65acca70",
   "metadata": {
    "vscode": {
     "languageId": "raw"
    }
   },
   "source": [
    "---\n",
    "layout: default\n",
    "title: ConditionalsPY Homework\n",
    "description: This is Akhil's homework/hacks for the Conditionals lesson for Python\n",
    "categories: ['Lessons']\n",
    "permalink: /github/pages/ConditionalPY_HW\n",
    "breadcrumb: True\n",
    "---"
   ]
  },
  {
   "cell_type": "markdown",
   "id": "3db6febd",
   "metadata": {},
   "source": [
    "## Conditionals Python Homework\n",
    "---\n",
    "### Python Popcorn Hack\n",
    "\n"
   ]
  },
  {
   "cell_type": "code",
   "execution_count": null,
   "id": "96d9cb22",
   "metadata": {},
   "outputs": [],
   "source": [
    "number1 = 10\n",
    "number2 = 0   \n",
    "\n",
    "if number2 != 0:        # fill in the condition\n",
    "    result = number1 / number2   # fill in the operator\n",
    "    print(\"The answer is\", result)  # fill in what to print\n",
    "else:\n",
    "    print(\"Error: Cannot divide by zero!\")  # fill in the missing word\n"
   ]
  },
  {
   "cell_type": "markdown",
   "id": "35720ac5",
   "metadata": {},
   "source": [
    "### Part A: Answer the Question!\n",
    "What does an if statement do in programming?\n",
    "\n",
    "``Write answer here`` \n",
    "An if statement controls the flow of your program by deciding what code runs under certain conditions.\n",
    "\n",
    "\n",
    "### Part B: Python Practice\n",
    "Write a Python program that checks if a number ``score = 85`` is a **passing grade** (≥ 60). Print \"Pass\" if true, otherwise ``\"Fail\"``.\n",
    "<!-- Extra Credit: Change the variables assigned values (Ex: score = 90, passing grade (≥ 20), etc). -->\n"
   ]
  },
  {
   "cell_type": "code",
   "execution_count": null,
   "id": "85cce559",
   "metadata": {},
   "outputs": [],
   "source": [
    "# <-- Example Code\n",
    "\n",
    "x = 19\n",
    "\n",
    "if x >= 18:\n",
    "    print(\"You can vote\")\n",
    "else:\n",
    "    print(\"You are too young to vote\")"
   ]
  },
  {
   "cell_type": "code",
   "execution_count": null,
   "id": "92a69163",
   "metadata": {},
   "outputs": [],
   "source": [
    "# <-- Do the homework in this code cell\n",
    "# Part B: Python Practice\n",
    "\n",
    "# You can change these values for extra credit\n",
    "score = 95  # I changed this value to test different outputs\n",
    "passing_grade = 60 # Changed this value for extra credit\n",
    "\n",
    "# Check if the score meets or exceeds the passing grade\n",
    "if score >= passing_grade:\n",
    "    print(\" You Pass\")\n",
    "else:\n",
    "    print(\"You Fail\")\n"
   ]
  }
 ],
 "metadata": {
  "kernelspec": {
   "display_name": "venv (3.12.3)",
   "language": "python",
   "name": "python3"
  },
  "language_info": {
   "codemirror_mode": {
    "name": "ipython",
    "version": 3
   },
   "file_extension": ".py",
   "mimetype": "text/x-python",
   "name": "python",
   "nbconvert_exporter": "python",
   "pygments_lexer": "ipython3",
   "version": "3.12.3"
  }
 },
 "nbformat": 4,
 "nbformat_minor": 5
}
