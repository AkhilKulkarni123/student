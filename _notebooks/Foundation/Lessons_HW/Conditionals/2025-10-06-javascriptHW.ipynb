{
 "cells": [
  {
   "cell_type": "markdown",
   "id": "c2cb43ab",
   "metadata": {},
   "source": [
    "---\n",
    "layout: default\n",
    "title: Conditionals Homework in javascript\n",
    "description: Quick practice with Conditionals in javascript\n",
    "permalink: /csp/javascript/booleanexpressionsjavascript/collaborators/homework\n",
    "authors: Akhil Kulkarni\n",
    "---"
   ]
  }
 ],
 "metadata": {
  "language_info": {
   "name": "python"
  }
 },
 "nbformat": 4,
 "nbformat_minor": 5
}
