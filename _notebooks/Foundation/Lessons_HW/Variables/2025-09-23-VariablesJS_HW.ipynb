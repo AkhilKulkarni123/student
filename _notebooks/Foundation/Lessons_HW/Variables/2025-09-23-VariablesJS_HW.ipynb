{
 "cells": [
  {
   "cell_type": "markdown",
   "id": "42ef15cf",
   "metadata": {},
   "source": [
    "---\n",
    "layout: default\n",
    "title: VariablesJS Homework\n",
    "description: This is Akhil's homework/hacks for the Variables lesson for Javascript\n",
    "categories: ['Lessons']\n",
    "permalink: /github/pages/VariablesJS_HW\n",
    "breadcrumb: True\n",
    "---"
   ]
  },
  {
   "cell_type": "code",
   "execution_count": 3,
   "id": "6bb9a99d",
   "metadata": {
    "vscode": {
     "languageId": "javascript"
    }
   },
   "outputs": [
    {
     "data": {
      "application/javascript": "// Part 1 \n// Personal info\nlet myName = \"Akhil Kulkarni\"; // Fill in your name\nlet myAge = 15; // Fill in your age (number, no quotes)\nlet myCity = \"San Diego\"; // Fill in the city where you live\n\n// Part 2 \n// Preferences\nlet favoriteColor = \"blue\"; // Your favorite color\nlet favoriteFood = \"pizza\"; // Your favorite food\nlet favoriteMovie = \"Spider-Man: Into the Spider-Verse\"; // Your favorite movie\nlet favoriteSong = \"Blinding Lights\"; // Your favorite song\n\n// Part 3 \n// Reassign some variables (you can change their values later)\nfavoriteFood = \"sushi\"; // Change your favorite food\nmyCity = \"San Diego\"; // Change your city\nlet hasPet = true; // true or false (Boolean)\n\n// Part 4 \n// Add some more details\nlet isStudent = true; // true or false\nlet isOnline = true; // true or false\nlet likesMusic = true; // true or false\n\n// Part 5: Print Your Life Profile\nconsole.log(\"Name:\", myName);\nconsole.log(\"Age:\", myAge);\nconsole.log(\"City:\", myCity);\nconsole.log(\"Favorite color:\", favoriteColor);\nconsole.log(\"Favorite food:\", favoriteFood);\nconsole.log(\"Favorite movie:\", favoriteMovie);\nconsole.log(\"Favorite song:\", favoriteSong);\nconsole.log(\"Student?\", isStudent);\nconsole.log(\"Has pet?\", hasPet);\nconsole.log(\"Online?\", isOnline);\nconsole.log(\"Likes music?\", likesMusic);\n",
      "text/plain": [
       "<IPython.core.display.Javascript object>"
      ]
     },
     "metadata": {},
     "output_type": "display_data"
    }
   ],
   "source": [
    "%%js\n",
    "// Part 1 \n",
    "// Personal info\n",
    "let myName = \"Akhil Kulkarni\"; // Fill in your name\n",
    "let myAge = 15; // Fill in your age (number, no quotes)\n",
    "let myCity = \"San Diego\"; // Fill in the city where you live\n",
    "\n",
    "// Part 2 \n",
    "// Preferences\n",
    "let favoriteColor = \"blue\"; // Your favorite color\n",
    "let favoriteFood = \"pizza\"; // Your favorite food\n",
    "let favoriteMovie = \"Spider-Man: Into the Spider-Verse\"; // Your favorite movie\n",
    "let favoriteSong = \"Blinding Lights\"; // Your favorite song\n",
    "\n",
    "// Part 3 \n",
    "// Reassign some variables (you can change their values later)\n",
    "favoriteFood = \"sushi\"; // Change your favorite food\n",
    "myCity = \"San Diego\"; // Change your city\n",
    "let hasPet = true; // true or false (Boolean)\n",
    "\n",
    "// Part 4 \n",
    "// Add some more details\n",
    "let isStudent = true; // true or false\n",
    "let isOnline = true; // true or false\n",
    "let likesMusic = true; // true or false\n",
    "\n",
    "// Part 5: Print Your Life Profile\n",
    "console.log(\"Name:\", myName);\n",
    "console.log(\"Age:\", myAge);\n",
    "console.log(\"City:\", myCity);\n",
    "console.log(\"Favorite color:\", favoriteColor);\n",
    "console.log(\"Favorite food:\", favoriteFood);\n",
    "console.log(\"Favorite movie:\", favoriteMovie);\n",
    "console.log(\"Favorite song:\", favoriteSong);\n",
    "console.log(\"Student?\", isStudent);\n",
    "console.log(\"Has pet?\", hasPet);\n",
    "console.log(\"Online?\", isOnline);\n",
    "console.log(\"Likes music?\", likesMusic);"
   ]
  }
 ],
 "metadata": {
  "kernelspec": {
   "display_name": "venv",
   "language": "python",
   "name": "python3"
  },
  "language_info": {
   "codemirror_mode": {
    "name": "ipython",
    "version": 3
   },
   "file_extension": ".py",
   "mimetype": "text/x-python",
   "name": "python",
   "nbconvert_exporter": "python",
   "pygments_lexer": "ipython3",
   "version": "3.9.6"
  }
 },
 "nbformat": 4,
 "nbformat_minor": 5
}
