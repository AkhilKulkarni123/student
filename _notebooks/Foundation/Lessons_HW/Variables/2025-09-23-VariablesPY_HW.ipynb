{
 "cells": [
  {
   "cell_type": "code",
   "execution_count": null,
   "id": "42ab82be",
   "metadata": {
    "vscode": {
     "languageId": "yaml"
    }
   },
   "outputs": [],
   "source": [
    "---\n",
    "layout: default\n",
    "title: VariablesPY Homework\n",
    "description: This is Akhil's homework/hacks for the variables lesson for python\n",
    "categories: ['Lessons']\n",
    "permalink: /github/pages/VariablesPY_HW\n",
    "breadcrumb: True\n",
    "---"
   ]
  },
  {
   "cell_type": "markdown",
   "id": "407a0bb8",
   "metadata": {},
   "source": [
    "# Task 1"
   ]
  },
  {
   "cell_type": "code",
   "execution_count": 2,
   "id": "3612717c",
   "metadata": {},
   "outputs": [
    {
     "name": "stdout",
     "output_type": "stream",
     "text": [
      "Name: Akhil Kulkarni\n",
      "Age: 15\n",
      "City: Denver\n",
      "Favorite color: purple\n",
      "Favorite food: pasta\n",
      "Favorite movie: The Incredibles\n",
      "Favorite song: Levitating\n",
      "Student? True\n",
      "Has pet? True\n",
      "Online? True\n",
      "Likes music? True\n"
     ]
    }
   ],
   "source": [
    "# Part 1\n",
    "## Personal info\n",
    "my_name = \"Akhil Kulkarni\"  # Fill in your name\n",
    "my_age = 15  # Fill in your age\n",
    "my_city = \"San Diego\"  # Fill in the city where you live\n",
    "\n",
    "# Part 2\n",
    "## Preferences\n",
    "favorite_color = \"purple\"  # Your favorite color\n",
    "favorite_food = \"tacos\"  # Your favorite food\n",
    "favorite_movie = \"The Incredibles\"  # Your favorite movie\n",
    "favorite_song = \"Levitating\"  # Your favorite song\n",
    "\n",
    "# Part 3\n",
    "# Reassign some variables\n",
    "favorite_food = \"pasta\"  # Changed from tacos\n",
    "my_city = \"Denver\"  # Changed from Austin\n",
    "has_pet = True  # True or False (Boolean)\n",
    "\n",
    "# Part 4\n",
    "# Add more details (these were missing from the initial code)\n",
    "is_student = True  # True or False\n",
    "is_online = True  # True or False\n",
    "likes_music = True  # True or False\n",
    "\n",
    "# Part 5: Print Your Life Profile\n",
    "print(\"Name:\", my_name)\n",
    "print(\"Age:\", my_age)\n",
    "print(\"City:\", my_city)\n",
    "print(\"Favorite color:\", favorite_color)\n",
    "print(\"Favorite food:\", favorite_food)\n",
    "print(\"Favorite movie:\", favorite_movie)\n",
    "print(\"Favorite song:\", favorite_song)\n",
    "print(\"Student?\", is_student)\n",
    "print(\"Has pet?\", has_pet)\n",
    "print(\"Online?\", is_online)\n",
    "print(\"Likes music?\", likes_music)"
   ]
  },
  {
   "cell_type": "markdown",
   "id": "7d539e79",
   "metadata": {},
   "source": [
    "# Task 2"
   ]
  },
  {
   "cell_type": "markdown",
   "id": "6d499ef9",
   "metadata": {},
   "source": [
    "## Creative Challenge \n",
    "\n",
    "Your task: Create a “story” or “profile” using **ONLY variables and assignments**.  \n",
    "\n",
    "\n",
    "### Instructions:\n",
    "\n",
    "1. **Create at least 8 variables** to describe a character or yourself.  \n",
    "   Examples:  \n",
    "   `name`, `age`, `favorite_food`, `hobby`, `number_of_pets`, `mood`, `favorite_color`, `dream_job`\n",
    "\n",
    "2. **Assign initial values** to all variables.\n",
    "\n",
    "3. **Reassign at least 4 of the variables** to new values to simulate changes over time or “events” in the story.\n",
    "\n",
    "4. Use **print statements** to write a story or profile that is **at least 5 sentences long**.  \n",
    "   Each sentence should include at least one variable.  \n",
    "   Example:  \n",
    "   > \"Tanay ('age' 17) loves pizza and plays tennis ('hobby') every weekend. Today, Tanay is happy because he ate his ('favoirite_food').\"\n",
    "\n",
    "5. Optional: Add **extra variables** to make your story longer and more creative.  \n",
    "   You can also create “day 2”, “day 3”, etc., by reassigning variables and printing new sentences.\n",
    "\n",
    "### Goal:\n",
    "\n",
    "- Show creativity while practicing:  \n",
    "  - Variable creation  \n",
    "  - Variable reassignment  \n",
    "  - Using variables in print statements\n",
    "  - Experiment with assigment and reassigment to update variables \n"
   ]
  },
  {
   "cell_type": "code",
   "execution_count": 4,
   "id": "fea51c91",
   "metadata": {},
   "outputs": [
    {
     "name": "stdout",
     "output_type": "stream",
     "text": [
      "=== Akhil's STORY - DAY 1 ===\n",
      "Akhil is 15 years old and dreams of becoming a video game designer one day.\n",
      "She has 2 pets at home and loves spending time painting in her free time.\n",
      "Today, Akhil is feeling excited because she's at the library with her best friend Bob.\n",
      "They decided to grab some pasta for lunch, which is Akhil's favorite food.\n",
      "Akhil wore her teal shirt today because it matches her excited mood perfectly!\n",
      "\n",
      "--- A Week Later ---\n",
      "\n",
      "=== Akhil's STORY - DAY 8 ===\n",
      "It's been an eventful week! Akhil just turned 17 years old yesterday.\n",
      "She started learning coding at a coding bootcamp, which is why she's feeling nervous today.\n",
      "Akhil brought pizza to share with everyone at the bootcamp, though she used to prefer sushi.\n",
      "Her family surprised her with a birthday gift - now she has 3 pets instead of two!\n",
      "Even though she's nervous, Akhil knows that becoming a video game designer requires learning new skills.\n",
      "Bob encouraged her to keep going, reminding her that she's always been great at creative things.\n",
      "\n",
      "--- One Month Later ---\n",
      "\n",
      "=== Akhil's STORY - DAY 38 ===\n",
      "Akhil, now 17, completed her first coding project and feels incredibly proud!\n",
      "She's at home working on game development, combining her art skills with programming.\n",
      "Her dream of becoming a indie game developer feels more real than ever before.\n",
      "All 3 of her pets keep her company while she works, and Bob visits every weekend.\n",
      "Akhil celebrates each milestone with pizza and wears her lucky teal hoodie when coding.\n",
      "\n",
      "==================================================\n",
      "THE END - I had fun practicing variables!\n"
     ]
    }
   ],
   "source": [
    "name = \"Akhil\"\n",
    "age = 15\n",
    "favorite_food = \"pasta\"\n",
    "hobby = \"painting\"\n",
    "number_of_pets = 2\n",
    "mood = \"excited\"\n",
    "favorite_color = \"teal\"\n",
    "dream_job = \"video game designer\"\n",
    "current_location = \"library\"\n",
    "best_friend = \"Bob\"\n",
    "\n",
    "# Print the initial story\n",
    "print(\"=== Akhil's STORY - DAY 1 ===\")\n",
    "print(f\"{name} is {age} years old and dreams of becoming a {dream_job} one day.\")\n",
    "print(f\"She has {number_of_pets} pets at home and loves spending time {hobby} in her free time.\")\n",
    "print(f\"Today, {name} is feeling {mood} because she's at the {current_location} with her best friend {best_friend}.\")\n",
    "print(f\"They decided to grab some {favorite_food} for lunch, which is {name}'s favorite food.\")\n",
    "print(f\"{name} wore her {favorite_color} shirt today because it matches her {mood} mood perfectly!\")\n",
    "\n",
    "print(\"\\n--- A Week Later ---\\n\")\n",
    "\n",
    "# Reassign variables to show changes (4+ reassignments)\n",
    "age = 17  # Birthday happened!\n",
    "mood = \"nervous\"\n",
    "hobby = \"coding\"\n",
    "favorite_food = \"pizza\"\n",
    "current_location = \"coding bootcamp\"\n",
    "number_of_pets = 3  # Got a new pet!\n",
    "\n",
    "# Print the updated story\n",
    "print(\"=== Akhil's STORY - DAY 8 ===\")\n",
    "print(f\"It's been an eventful week! {name} just turned {age} years old yesterday.\")\n",
    "print(f\"She started learning {hobby} at a {current_location}, which is why she's feeling {mood} today.\")\n",
    "print(f\"{name} brought {favorite_food} to share with everyone at the bootcamp, though she used to prefer sushi.\")\n",
    "print(f\"Her family surprised her with a birthday gift - now she has {number_of_pets} pets instead of two!\")\n",
    "print(f\"Even though she's {mood}, {name} knows that becoming a {dream_job} requires learning new skills.\")\n",
    "print(f\"{best_friend} encouraged her to keep going, reminding her that she's always been great at creative things.\")\n",
    "\n",
    "print(\"\\n--- One Month Later ---\\n\")\n",
    "\n",
    "# More reassignments to continue the story\n",
    "mood = \"proud\"\n",
    "hobby = \"game development\"\n",
    "current_location = \"home\"\n",
    "dream_job = \"indie game developer\"\n",
    "\n",
    "# Final part of the story\n",
    "print(\"=== Akhil's STORY - DAY 38 ===\")\n",
    "print(f\"{name}, now {age}, completed her first coding project and feels incredibly {mood}!\")\n",
    "print(f\"She's at {current_location} working on {hobby}, combining her art skills with programming.\")\n",
    "print(f\"Her dream of becoming a {dream_job} feels more real than ever before.\")\n",
    "print(f\"All {number_of_pets} of her pets keep her company while she works, and {best_friend} visits every weekend.\")\n",
    "print(f\"{name} celebrates each milestone with {favorite_food} and wears her lucky {favorite_color} hoodie when coding.\")\n",
    "\n",
    "print(\"\\n\" + \"=\"*50)\n",
    "print(\"THE END - I had fun practicing variables!\")"
   ]
  }
 ],
 "metadata": {
  "kernelspec": {
   "display_name": "venv",
   "language": "python",
   "name": "python3"
  },
  "language_info": {
   "codemirror_mode": {
    "name": "ipython",
    "version": 3
   },
   "file_extension": ".py",
   "mimetype": "text/x-python",
   "name": "python",
   "nbconvert_exporter": "python",
   "pygments_lexer": "ipython3",
   "version": "3.9.6"
  }
 },
 "nbformat": 4,
 "nbformat_minor": 5
}
