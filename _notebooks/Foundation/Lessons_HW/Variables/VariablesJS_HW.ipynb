{
 "cells": [
  {
   "cell_type": "markdown",
   "id": "42ef15cf",
   "metadata": {},
   "source": [
    "---\n",
    "layout: default\n",
    "title: VariablesJS Homework\n",
    "description: This is Akhil's homework/hacks for the Variables lesson for Javascript\n",
    "categories: ['Lessons']\n",
    "permalink: /github/pages/LessonsJS_HW\n",
    "breadcrumb: True\n",
    "---"
   ]
  },
  {
   "cell_type": "code",
   "execution_count": null,
   "id": "6bb9a99d",
   "metadata": {
    "vscode": {
     "languageId": "javascript"
    }
   },
   "outputs": [],
   "source": [
    "// Part 1 \n",
    "// Personal info\n",
    "let myName = \"Akhil Kulkarni\"; // Fill in your name\n",
    "let myAge = 15; // Fill in your age (number, no quotes)\n",
    "let myCity = \"San Diego\"; // Fill in the city where you live\n",
    "\n",
    "// Part 2 \n",
    "// Preferences\n",
    "let favoriteColor = \"blue\"; // Your favorite color\n",
    "let favoriteFood = \"pizza\"; // Your favorite food\n",
    "let favoriteMovie = \"Spider-Man: Into the Spider-Verse\"; // Your favorite movie\n",
    "let favoriteSong = \"Blinding Lights\"; // Your favorite song\n",
    "\n",
    "// Part 3 \n",
    "// Reassign some variables (you can change their values later)\n",
    "favoriteFood = \"sushi\"; // Change your favorite food\n",
    "myCity = \"San Diego\"; // Change your city\n",
    "let hasPet = true; // true or false (Boolean)\n",
    "\n",
    "// Part 4 \n",
    "// Add some more details\n",
    "let isStudent = true; // true or false\n",
    "let isOnline = true; // true or false\n",
    "let likesMusic = true; // true or false\n",
    "\n",
    "// Part 5: Print Your Life Profile\n",
    "console.log(\"Name:\", myName);\n",
    "console.log(\"Age:\", myAge);\n",
    "console.log(\"City:\", myCity);\n",
    "console.log(\"Favorite color:\", favoriteColor);\n",
    "console.log(\"Favorite food:\", favoriteFood);\n",
    "console.log(\"Favorite movie:\", favoriteMovie);\n",
    "console.log(\"Favorite song:\", favoriteSong);\n",
    "console.log(\"Student?\", isStudent);\n",
    "console.log(\"Has pet?\", hasPet);\n",
    "console.log(\"Online?\", isOnline);\n",
    "console.log(\"Likes music?\", likesMusic);"
   ]
  }
 ],
 "metadata": {
  "language_info": {
   "name": "python"
  }
 },
 "nbformat": 4,
 "nbformat_minor": 5
}
