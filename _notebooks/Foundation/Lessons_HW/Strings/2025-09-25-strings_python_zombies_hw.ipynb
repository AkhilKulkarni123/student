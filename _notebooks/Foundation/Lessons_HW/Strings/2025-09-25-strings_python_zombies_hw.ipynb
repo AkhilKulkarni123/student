{
 "cells": [
  {
   "cell_type": "markdown",
   "id": "04a948d2",
   "metadata": {},
   "source": [
    "---\n",
    "layout: default\n",
    "title: StringsPY Homework\n",
    "description: This is Akhil's homework/hacks for the String lesson for python\n",
    "categories: ['Lessons']\n",
    "permalink: /github/pages/StringPY_HW\n",
    "breadcrumb: True\n",
    "---"
   ]
  },
  {
   "cell_type": "markdown",
   "id": "2a90f880",
   "metadata": {},
   "source": [
    "# Python Strings Homework\n",
    "---"
   ]
  },
  {
   "cell_type": "markdown",
   "id": "3c878fa1",
   "metadata": {},
   "source": [
    "## Python Popcorn Hack"
   ]
  },
  {
   "cell_type": "markdown",
   "id": "12037a42",
   "metadata": {},
   "source": [
    "Write a program that:\n",
    "\n",
    "1. Creates two string variables: ``| name = \"Your Name\" | color = \"Favorite Color\" |``\n",
    "\n",
    "2. Prints the sentence: ``Hello Alex, your favorite color is blue!``\n",
    "\n",
    "3. Then prints the same sentence, but in all uppercase letters."
   ]
  },
  {
   "cell_type": "code",
   "execution_count": 2,
   "id": "4b46da44",
   "metadata": {},
   "outputs": [
    {
     "name": "stdout",
     "output_type": "stream",
     "text": [
      "Hello Alex, your favorite color is blue!\n",
      "HELLO ALEX, YOUR FAVORITE COLOR IS BLUE!\n"
     ]
    }
   ],
   "source": [
    "# <-- Homework starts here!\n",
    "# Create string variables\n",
    "name = \"Alex\"\n",
    "color = \"blue\"\n",
    "\n",
    "# Print the sentence\n",
    "print(f\"Hello {name}, your favorite color is {color}!\")\n",
    "\n",
    "# Print the same sentence in all uppercase\n",
    "print(f\"Hello {name}, your favorite color is {color}!\".upper())\n"
   ]
  },
  {
   "cell_type": "markdown",
   "id": "82409caa",
   "metadata": {},
   "source": [
    "## Python Strings Homework\n",
    "\n",
    "##### Your program should:\n",
    "\n",
    "1. Remove the extra spaces at the beginning and end.\n",
    "\n",
    "2. Capitalize only the first letter of the sentence.\n",
    "\n",
    "3. Replace the word \"python\" with \"Python\".\n",
    "\n",
    "4. Print the final result.\n",
    "\n",
    "5. Also print how many characters the cleaned-up sentence has.\n",
    "\n",
    "##### Hint:\n",
    "Your program should be using these commands:\n",
    "- ``.strip()``\n",
    "\n",
    "- ``.capitalize()``\n",
    "\n",
    "- ``.replace()``\n",
    "\n",
    "- ``len()``"
   ]
  },
  {
   "cell_type": "code",
   "execution_count": 3,
   "id": "85cf85e9",
   "metadata": {},
   "outputs": [
    {
     "name": "stdout",
     "output_type": "stream",
     "text": [
      "Jazz music is loud\n",
      "18\n"
     ]
    }
   ],
   "source": [
    "# Example\n",
    "sentence = \"   rock music is loud   \"\n",
    "\n",
    "cleaned = sentence.strip()\n",
    "\n",
    "capitalized = cleaned.capitalize()\n",
    "\n",
    "fixed = capitalized.replace(\"Rock\", \"Jazz\")\n",
    "\n",
    "print(fixed)            \n",
    "print(len(fixed))       \n"
   ]
  },
  {
   "cell_type": "code",
   "execution_count": 4,
   "id": "fe3af160",
   "metadata": {},
   "outputs": [
    {
     "name": "stdout",
     "output_type": "stream",
     "text": [
      "I love Python programming!\n",
      "Number of characters: 26\n"
     ]
    }
   ],
   "source": [
    "# <-- Homework starts here!\n",
    "# Original sentence with extra spaces\n",
    "sentence = \"    i love python programming!    \"\n",
    "\n",
    "# Step 1: Remove extra spaces\n",
    "cleaned_sentence = sentence.strip()\n",
    "\n",
    "# Step 2: Capitalize only the first letter\n",
    "cleaned_sentence = cleaned_sentence.capitalize()\n",
    "\n",
    "# Step 3: Replace \"python\" with \"Python\"\n",
    "cleaned_sentence = cleaned_sentence.replace(\"python\", \"Python\")\n",
    "\n",
    "# Step 4: Print the final result\n",
    "print(cleaned_sentence)\n",
    "\n",
    "# Step 5: Print the number of characters\n",
    "print(\"Number of characters:\", len(cleaned_sentence))\n"
   ]
  }
 ],
 "metadata": {
  "kernelspec": {
   "display_name": "venv",
   "language": "python",
   "name": "python3"
  },
  "language_info": {
   "codemirror_mode": {
    "name": "ipython",
    "version": 3
   },
   "file_extension": ".py",
   "mimetype": "text/x-python",
   "name": "python",
   "nbconvert_exporter": "python",
   "pygments_lexer": "ipython3",
   "version": "3.9.6"
  }
 },
 "nbformat": 4,
 "nbformat_minor": 5
}
