{
 "cells": [
  {
   "cell_type": "code",
   "execution_count": null,
   "id": "752599c8",
   "metadata": {
    "vscode": {
     "languageId": "yaml"
    }
   },
   "outputs": [],
   "source": [
    "---\n",
    "layout: default\n",
    "title: Boolean_ExpressionsJS Homework\n",
    "description: This is Akhil's homework/hacks for the Boolean Expressions lesson for Javascript\n",
    "categories: ['Lessons']\n",
    "permalink: /github/pages/Boolean_ExpressionJS_HW\n",
    "breadcrumb: True\n",
    "---"
   ]
  },
  {
   "cell_type": "markdown",
   "id": "24ec0689",
   "metadata": {},
   "source": [
    "## 📘 AP CSP Unit 3.5 Boolean Expressions Homework (JavaScript)\n",
    "### Part A: Write Boolean Expressions.\n",
    "Write Boolean expressions for the following situations. Use && (and), || (or), and ! (not).\n",
    "1. You can watch a movie if you finished your homework and your age is at least 13.\n",
    "2. You can get dessert if you ordered dinner or your parent says yes.\n",
    "3. You can go outside if it is not raining and the temperature is greater than 60.\n",
    "4. A student is eligible for a discount if they are a student and their age is less than 18."
   ]
  },
  {
   "cell_type": "code",
   "execution_count": 1,
   "id": "d2255033",
   "metadata": {
    "vscode": {
     "languageId": "javascript"
    }
   },
   "outputs": [
    {
     "data": {
      "application/javascript": "/// Type the appropriate answers to the questions here:\n// 1. \nlet finishedHomework = true;\nlet age = 14;\n\nif (finishedHomework && age >= 13) {\n    console.log(\"You can watch a movie!\");\n} else {\n    console.log(\"You cannot watch a movie.\");\n}\n// 2. \nlet orderedDinner = false;\nlet parentSaysYes = true;\n\nif (orderedDinner || parentSaysYes) {\n    console.log(\"You can get dessert!\");\n} else {\n    console.log(\"No dessert for you.\");\n}\n// 3. \nlet isRaining = false;\nlet temperature = 65;\n\nif (!isRaining && temperature > 60) {\n    console.log(\"You can go outside!\");\n} else {\n    console.log(\"Better stay inside.\");\n}\n// 4.\nlet isStudent = true;\nage = 16; // can reuse the age variable from earlier\n\nif (isStudent && age < 18) {\n    console.log(\"You are eligible for a student discount!\");\n} else {\n    console.log(\"No discount for you.\");\n}\n",
      "text/plain": [
       "<IPython.core.display.Javascript object>"
      ]
     },
     "metadata": {},
     "output_type": "display_data"
    }
   ],
   "source": [
    "%%javascript\n",
    "/// Type the appropriate answers to the questions here:\n",
    "// 1. \n",
    "let finishedHomework = true;\n",
    "let age = 14;\n",
    "\n",
    "if (finishedHomework && age >= 13) {\n",
    "    console.log(\"You can watch a movie!\");\n",
    "} else {\n",
    "    console.log(\"You cannot watch a movie.\");\n",
    "}\n",
    "// 2. \n",
    "let orderedDinner = false;\n",
    "let parentSaysYes = true;\n",
    "\n",
    "if (orderedDinner || parentSaysYes) {\n",
    "    console.log(\"You can get dessert!\");\n",
    "} else {\n",
    "    console.log(\"No dessert for you.\");\n",
    "}\n",
    "// 3. \n",
    "let isRaining = false;\n",
    "let temperature = 65;\n",
    "\n",
    "if (!isRaining && temperature > 60) {\n",
    "    console.log(\"You can go outside!\");\n",
    "} else {\n",
    "    console.log(\"Better stay inside.\");\n",
    "}\n",
    "// 4.\n",
    "let isStudent = true;\n",
    "age = 16; // can reuse the age variable from earlier\n",
    "\n",
    "if (isStudent && age < 18) {\n",
    "    console.log(\"You are eligible for a student discount!\");\n",
    "} else {\n",
    "    console.log(\"No discount for you.\");\n",
    "}"
   ]
  },
  {
   "cell_type": "markdown",
   "id": "d83cb905",
   "metadata": {},
   "source": [
    "### Part B: Predict the Output\n",
    "What will each of these expressions evaluate to in JavaScript? (true or false)\n",
    "```javascript\n",
    "1. (5 > 3) && (10 < 20)\n",
    "2. (7 === 7) || (4 > 10)\n",
    "3. !(false) && (3 <= 3)\n",
    "4. (true || false) && !(5 === \"5\")\n",
    "5. (12 % 2 === 0) && (15 % 2 === 1)\n",
    "```\n"
   ]
  },
  {
   "cell_type": "markdown",
   "id": "95b39e09",
   "metadata": {},
   "source": [
    "Type the appropriate answers to the questions here:\n",
    "1. True\n",
    "2. True\n",
    "3. True\n",
    "4. True\n",
    "5. False"
   ]
  },
  {
   "cell_type": "markdown",
   "id": "c2ddca01",
   "metadata": {},
   "source": [
    "### Part C: Debugging\n",
    "Some students wrote Boolean expressions but made mistakes. Fix the errors.\n",
    "1. if (x > 10 and y < 5)\n",
    "2. if (not isOnline)\n",
    "3. if (age => 16 || hasLicense)"
   ]
  },
  {
   "cell_type": "code",
   "execution_count": 2,
   "id": "d7bc6e65",
   "metadata": {
    "vscode": {
     "languageId": "javascript"
    }
   },
   "outputs": [
    {
     "data": {
      "application/javascript": "// Type the appropriate answers to the questions here:\n// 1. Error: JavaScript uses && instead of and\nif (x > 10 && y < 5);\n// 2. Error: JavaScript uses ! for “not”.\nif (!isOnline);\n// 3. Error: => is used for arrow functions, not comparisons. The correct operator is >=.\nif (age >= 16 || hasLicense);\n",
      "text/plain": [
       "<IPython.core.display.Javascript object>"
      ]
     },
     "metadata": {},
     "output_type": "display_data"
    }
   ],
   "source": [
    "%%javascript\n",
    "// Type the appropriate answers to the questions here:\n",
    "// 1. Error: JavaScript uses && instead of and\n",
    "if (x > 10 && y < 5);\n",
    "// 2. Error: JavaScript uses ! for “not”.\n",
    "if (!isOnline);\n",
    "// 3. Error: => is used for arrow functions, not comparisons. The correct operator is >=.\n",
    "if (age >= 16 || hasLicense);\n"
   ]
  }
 ],
 "metadata": {
  "kernelspec": {
   "display_name": "venv",
   "language": "python",
   "name": "python3"
  },
  "language_info": {
   "codemirror_mode": {
    "name": "ipython",
    "version": 3
   },
   "file_extension": ".py",
   "mimetype": "text/x-python",
   "name": "python",
   "nbconvert_exporter": "python",
   "pygments_lexer": "ipython3",
   "version": "3.9.6"
  }
 },
 "nbformat": 4,
 "nbformat_minor": 5
}
