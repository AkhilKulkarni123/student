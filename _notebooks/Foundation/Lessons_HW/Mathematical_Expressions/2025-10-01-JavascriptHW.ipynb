{
 "cells": [
  {
   "cell_type": "markdown",
   "id": "b3aba733",
   "metadata": {},
   "source": [
    "---\n",
    "layout: default\n",
    "title: MathExpressionsJS Homework\n",
    "description: This is Akhil's homework/hacks for the MathExpressions lesson for Javascript\n",
    "categories: ['Lessons']\n",
    "permalink: /github/pages/MathExpressionsJS_HW\n",
    "breadcrumb: True\n",
    "---"
   ]
  },
  {
   "cell_type": "markdown",
   "id": "6549e7d0",
   "metadata": {},
   "source": [
    "### Part 1"
   ]
  },
  {
   "cell_type": "code",
   "execution_count": null,
   "id": "ad52f8af",
   "metadata": {
    "vscode": {
     "languageId": "javascript"
    }
   },
   "outputs": [],
   "source": [
    "// 1. Create variables for grades\n",
    "let grade1 = 90;\n",
    "let grade2 = 80;\n",
    "\n",
    "// 2. Calculate the average (use parentheses to ensure correct order)\n",
    "let averageGrade = (grade1 + grade2) / 2;\n",
    "\n",
    "// 3. Display the result\n",
    "console.log(\"The average is \" + averageGrade);\n"
   ]
  },
  {
   "cell_type": "markdown",
   "id": "d56eab2f",
   "metadata": {},
   "source": [
    "### Part 2"
   ]
  },
  {
   "cell_type": "code",
   "execution_count": null,
   "id": "68a5e1bc",
   "metadata": {
    "vscode": {
     "languageId": "javascript"
    }
   },
   "outputs": [],
   "source": [
    "// 1. Create variables\n",
    "let num1 = 10;\n",
    "let num2 = 5;\n",
    "\n",
    "// 2. Perform arithmetic operations\n",
    "let sum = num1 + num2;\n",
    "let difference = num1 - num2;\n",
    "let product = num1 * num2;\n",
    "let quotient = num1 / num2;\n",
    "\n",
    "// 3. Display all results\n",
    "console.log(\"Sum: \" + sum);\n",
    "console.log(\"Difference: \" + difference);\n",
    "console.log(\"Product: \" + product);\n",
    "console.log(\"Quotient: \" + quotient);\n"
   ]
  },
  {
   "cell_type": "markdown",
   "id": "98bc14fe",
   "metadata": {},
   "source": [
    "### Part 3"
   ]
  },
  {
   "cell_type": "code",
   "execution_count": null,
   "id": "07f8db8c",
   "metadata": {
    "vscode": {
     "languageId": "javascript"
    }
   },
   "outputs": [],
   "source": [
    "// 1. Set initial values\n",
    "let num1 = 2;\n",
    "let num2 = 3;\n",
    "\n",
    "// 2. Calculate num3 as the sum of num1 and num2\n",
    "let num3 = num1 + num2;\n",
    "\n",
    "// 3. Calculate num4 as num3 multiplied by 2\n",
    "let num4 = num3 * 2;\n",
    "\n",
    "// 4. Display results\n",
    "console.log(\"num3: \" + num3);\n",
    "console.log(\"num4: \" + num4);\n"
   ]
  },
  {
   "cell_type": "markdown",
   "id": "4b140566",
   "metadata": {},
   "source": [
    "### Part 4"
   ]
  },
  {
   "cell_type": "code",
   "execution_count": null,
   "id": "7b5371f9",
   "metadata": {
    "vscode": {
     "languageId": "javascript"
    }
   },
   "outputs": [],
   "source": [
    "// 1. Set variables\n",
    "let a = 8;\n",
    "let b = 4;\n",
    "let c = 2;\n",
    "\n",
    "// 2. Perform calculations\n",
    "let result1 = a + b * c;      // Multiplication happens before addition\n",
    "let result2 = (a + b) * c;    // Parentheses change the order\n",
    "\n",
    "// 3. Display results\n",
    "console.log(\"result1: \" + result1);\n",
    "console.log(\"result2: \" + result2);\n"
   ]
  }
 ],
 "metadata": {
  "language_info": {
   "name": "python"
  }
 },
 "nbformat": 4,
 "nbformat_minor": 5
}
