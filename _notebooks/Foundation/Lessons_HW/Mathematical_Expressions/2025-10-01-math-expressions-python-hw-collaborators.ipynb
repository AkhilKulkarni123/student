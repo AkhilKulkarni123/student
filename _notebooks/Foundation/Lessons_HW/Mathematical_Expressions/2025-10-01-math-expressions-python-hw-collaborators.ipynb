{
 "cells": [
  {
   "cell_type": "code",
   "execution_count": null,
   "id": "890b6bfc",
   "metadata": {
    "vscode": {
     "languageId": "yaml"
    }
   },
   "outputs": [],
   "source": [
    "---\n",
    "layout: default\n",
    "title: MathExpressionsPY Homework\n",
    "description: This is Akhil's homework/hacks for the MathExpressions lesson for python\n",
    "categories: ['Lessons']\n",
    "permalink: /github/pages/MathExpressionsPY_HW\n",
    "breadcrumb: True\n",
    "---"
   ]
  },
  {
   "cell_type": "markdown",
   "id": "1f551ab0",
   "metadata": {},
   "source": [
    "# 📝 3.3 Homework: Math Expressions & Algorithms in Python\n",
    "\n",
    "## Learning Objectives\n",
    "1. Write a Python program that follows a **step-by-step algorithm**.  \n",
    "2. Use **sequencing** correctly in Python.  \n",
    "3. Use **arithmetic operators** and **variables** to calculate results.  \n",
    "\n",
    "---\n",
    "\n",
    "## Part 1: Sequencing & Variables\n",
    "\n",
    "Write a Python program that performs the following steps **in order**:  \n",
    "\n",
    "1. Create a variable `grade1` and assign it a value of `90`.  \n",
    "2. Create a variable `grade2` and assign it a value of `75`.  \n",
    "3. Calculate the average of `grade1` and `grade2` and store it in a variable called `averageGrade`.  \n",
    "4. Display the value of `averageGrade`.  \n",
    "\n",
    "> **Example Output:**  \n",
    "> `The average grade is 82.5`  "
   ]
  },
  {
   "cell_type": "code",
   "execution_count": 1,
   "id": "85f74d07",
   "metadata": {},
   "outputs": [
    {
     "name": "stdout",
     "output_type": "stream",
     "text": [
      "The average grade is 82.5\n"
     ]
    }
   ],
   "source": [
    "# 1. Create variables for grades\n",
    "grade1 = 90\n",
    "grade2 = 75\n",
    "\n",
    "# 2. Calculate the average\n",
    "averageGrade = (grade1 + grade2) / 2\n",
    "\n",
    "# 3. Display the result\n",
    "print(\"The average grade is\", averageGrade)"
   ]
  },
  {
   "cell_type": "markdown",
   "id": "3f621832",
   "metadata": {},
   "source": [
    "\n",
    "\n",
    "## Part 2: Arithmetic Expressions\n",
    "\n",
    "Calculate the following in Python using **variables and arithmetic operators**:  \n",
    "\n",
    "1. `num1 ← 10`  \n",
    "2. `num2 ← 5`  \n",
    "3. `num3 ← num1 + num2 * 2`  \n",
    "4. `num4 ← (num1 + num2) * 2`  \n",
    "5. `num5 ← num3 / 3 + num4`  \n",
    "6. Display the values of `num3`, `num4`, and `num5`.  \n",
    "\n",
    "> Hint: Use `+`, `-`, `*`, `/`, and parentheses to control order of operations.  \n"
   ]
  },
  {
   "cell_type": "code",
   "execution_count": 2,
   "id": "51dc5fd2",
   "metadata": {},
   "outputs": [
    {
     "name": "stdout",
     "output_type": "stream",
     "text": [
      "num3 = 20\n",
      "num4 = 30\n",
      "num5 = 36.666666666666664\n"
     ]
    }
   ],
   "source": [
    "# 1. Set variables\n",
    "num1 = 10\n",
    "num2 = 5\n",
    "\n",
    "# 2. Perform arithmetic calculations\n",
    "num3 = num1 + num2 * 2       # Multiplication happens first\n",
    "num4 = (num1 + num2) * 2     # Parentheses change the order\n",
    "num5 = num3 / 3 + num4       # Combines division and addition\n",
    "\n",
    "# 3. Display results\n",
    "print(\"num3 =\", num3)\n",
    "print(\"num4 =\", num4)\n",
    "print(\"num5 =\", num5)"
   ]
  },
  {
   "cell_type": "markdown",
   "id": "eaf603f9",
   "metadata": {},
   "source": [
    "\n",
    "\n",
    "## Part 3: Step-by-Step Algorithm Practice\n",
    "\n",
    "Write Python code for this algorithm **without using loops or if statements**:  \n",
    "\n",
    "**Algorithm:**  \n",
    "\n",
    "1. Set `item` to `7`  \n",
    "2. Create three variables: `num1 = 3`, `num2 = 7`, `num3 = 9`  \n",
    "3. Check each variable **manually** to see if it equals `item` (just write it as a sequence of assignments and displays)  \n",
    "4. Display `\"Item found\"` if a variable matches `item`  \n",
    "5. At the end, display `\"Item not found\"` if none match  \n",
    "\n",
    "> Hint: Since you haven’t learned `if` statements, just **write a sequence that shows the comparisons step by step** with comments.  \n",
    "\n",
    "\n"
   ]
  },
  {
   "cell_type": "code",
   "execution_count": 3,
   "id": "655902ff",
   "metadata": {},
   "outputs": [
    {
     "name": "stdout",
     "output_type": "stream",
     "text": [
      "Checking num1 ( 3 ) == item ( 7 ): False\n",
      "Checking num2 ( 7 ) == item ( 7 ): True\n",
      "Checking num3 ( 9 ) == item ( 7 ): False\n",
      "Item found in num2\n"
     ]
    }
   ],
   "source": [
    "# 1. Set item\n",
    "item = 7\n",
    "\n",
    "# 2. Create three variables\n",
    "num1 = 3\n",
    "num2 = 7\n",
    "num3 = 9\n",
    "\n",
    "# 3. Manually check each variable (store boolean results)\n",
    "check1 = (num1 == item)\n",
    "check2 = (num2 == item)\n",
    "check3 = (num3 == item)\n",
    "\n",
    "# Display the checks\n",
    "print(\"Checking num1 (\", num1, \") == item (\", item, \"):\", check1)\n",
    "print(\"Checking num2 (\", num2, \") == item (\", item, \"):\", check2)\n",
    "print(\"Checking num3 (\", num3, \") == item (\", item, \"):\", check3)\n",
    "\n",
    "# 4. Use if statements to print results\n",
    "if check1:\n",
    "    print(\"Item found in num1\")\n",
    "\n",
    "if check2:\n",
    "    print(\"Item found in num2\")\n",
    "\n",
    "if check3:\n",
    "    print(\"Item found in num3\")\n",
    "\n",
    "# 5. Print \"Item not found\" if none matched\n",
    "if not (check1 or check2 or check3):\n",
    "    print(\"Item not found\")\n"
   ]
  },
  {
   "cell_type": "markdown",
   "id": "f75175f4",
   "metadata": {},
   "source": [
    "\n",
    "## Part 4: Mixed Expressions\n",
    "\n",
    "Write a Python program that:  \n",
    "\n",
    "1. Create three variables: `a = 8`, `b = 4`, `c = 10`  \n",
    "2. Calculate:  \n",
    "   - `result1 = a + b * c`  \n",
    "   - `result2 = (a + b) * c`  \n",
    "   - `result3 = a + (b / c)`  \n",
    "3. Display all three results.  \n",
    "\n",
    "> This will help you practice **order of operations** and arithmetic in Python."
   ]
  },
  {
   "cell_type": "code",
   "execution_count": 4,
   "id": "0909c3ea",
   "metadata": {},
   "outputs": [
    {
     "name": "stdout",
     "output_type": "stream",
     "text": [
      "result1 = 48\n",
      "result2 = 120\n",
      "result3 = 8.4\n"
     ]
    }
   ],
   "source": [
    "# 1. Create variables\n",
    "a = 8\n",
    "b = 4\n",
    "c = 10\n",
    "\n",
    "# 2. Perform calculations\n",
    "result1 = a + b * c        # Multiplication first\n",
    "result2 = (a + b) * c      # Parentheses change the order\n",
    "result3 = a + (b / c)      # Division happens before addition\n",
    "\n",
    "# 3. Display results\n",
    "print(\"result1 =\", result1)\n",
    "print(\"result2 =\", result2)\n",
    "print(\"result3 =\", result3)\n"
   ]
  }
 ],
 "metadata": {
  "kernelspec": {
   "display_name": "venv",
   "language": "python",
   "name": "python3"
  },
  "language_info": {
   "codemirror_mode": {
    "name": "ipython",
    "version": 3
   },
   "file_extension": ".py",
   "mimetype": "text/x-python",
   "name": "python",
   "nbconvert_exporter": "python",
   "pygments_lexer": "ipython3",
   "version": "3.9.6"
  }
 },
 "nbformat": 4,
 "nbformat_minor": 5
}
