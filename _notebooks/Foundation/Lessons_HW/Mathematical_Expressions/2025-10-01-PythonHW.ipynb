{
 "cells": [
  {
   "cell_type": "markdown",
   "id": "7d143693",
   "metadata": {},
   "source": [
    "---\n",
    "layout: default\n",
    "title: MathExpressionsPY Homework\n",
    "description: This is Akhil's homework/hacks for the MathExpressions lesson for python\n",
    "categories: ['Lessons']\n",
    "permalink: /github/pages/MathExpressionsPY_HW\n",
    "breadcrumb: True\n",
    "---"
   ]
  },
  {
   "cell_type": "markdown",
   "id": "f117fb3d",
   "metadata": {},
   "source": [
    "### Part 1"
   ]
  },
  {
   "cell_type": "code",
   "execution_count": null,
   "id": "2039a9fb",
   "metadata": {},
   "outputs": [],
   "source": [
    "# 1. Create variables for grades\n",
    "grade1 = 90\n",
    "grade2 = 75\n",
    "\n",
    "# 2. Calculate the average\n",
    "averageGrade = (grade1 + grade2) / 2\n",
    "\n",
    "# 3. Display the result\n",
    "print(\"The average grade is\", averageGrade)\n"
   ]
  },
  {
   "cell_type": "markdown",
   "id": "24b76a01",
   "metadata": {},
   "source": [
    "### Part 2"
   ]
  },
  {
   "cell_type": "code",
   "execution_count": null,
   "id": "4499fd3f",
   "metadata": {},
   "outputs": [],
   "source": [
    "# 1. Set variables\n",
    "num1 = 10\n",
    "num2 = 5\n",
    "\n",
    "# 2. Perform arithmetic calculations\n",
    "num3 = num1 + num2 * 2       # Multiplication happens first\n",
    "num4 = (num1 + num2) * 2     # Parentheses change the order\n",
    "num5 = num3 / 3 + num4       # Combines division and addition\n",
    "\n",
    "# 3. Display results\n",
    "print(\"num3 =\", num3)\n",
    "print(\"num4 =\", num4)\n",
    "print(\"num5 =\", num5)\n"
   ]
  },
  {
   "cell_type": "markdown",
   "id": "dde12acc",
   "metadata": {},
   "source": [
    "### Part 3"
   ]
  },
  {
   "cell_type": "code",
   "execution_count": null,
   "id": "f0b1479a",
   "metadata": {},
   "outputs": [],
   "source": [
    "# Part 3: Step-by-step algorithm practice with if statements\n",
    "\n",
    "# 1. Set item\n",
    "item = 7\n",
    "\n",
    "# 2. Create three variables\n",
    "num1 = 3\n",
    "num2 = 7\n",
    "num3 = 9\n",
    "\n",
    "# 3. Manually check each variable (store boolean results)\n",
    "check1 = (num1 == item)\n",
    "check2 = (num2 == item)\n",
    "check3 = (num3 == item)\n",
    "\n",
    "# Display the checks\n",
    "print(\"Checking num1 (\", num1, \") == item (\", item, \"):\", check1)\n",
    "print(\"Checking num2 (\", num2, \") == item (\", item, \"):\", check2)\n",
    "print(\"Checking num3 (\", num3, \") == item (\", item, \"):\", check3)\n",
    "\n",
    "# 4. Use if statements to print results\n",
    "if check1:\n",
    "    print(\"Item found in num1\")\n",
    "\n",
    "if check2:\n",
    "    print(\"Item found in num2\")\n",
    "\n",
    "if check3:\n",
    "    print(\"Item found in num3\")\n",
    "\n",
    "# 5. Print \"Item not found\" if none matched\n",
    "if not (check1 or check2 or check3):\n",
    "    print(\"Item not found\")\n"
   ]
  },
  {
   "cell_type": "markdown",
   "id": "cc7f3b5f",
   "metadata": {},
   "source": [
    "### Part 4"
   ]
  },
  {
   "cell_type": "code",
   "execution_count": null,
   "id": "98f767c9",
   "metadata": {},
   "outputs": [],
   "source": [
    "# 1. Create variables\n",
    "a = 8\n",
    "b = 4\n",
    "c = 10\n",
    "\n",
    "# 2. Perform calculations\n",
    "result1 = a + b * c        # Multiplication first\n",
    "result2 = (a + b) * c      # Parentheses change the order\n",
    "result3 = a + (b / c)      # Division happens before addition\n",
    "\n",
    "# 3. Display results\n",
    "print(\"result1 =\", result1)\n",
    "print(\"result2 =\", result2)\n",
    "print(\"result3 =\", result3)\n"
   ]
  }
 ],
 "metadata": {
  "language_info": {
   "name": "python"
  }
 },
 "nbformat": 4,
 "nbformat_minor": 5
}
