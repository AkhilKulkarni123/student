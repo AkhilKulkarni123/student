{
 "cells": [
  {
   "cell_type": "markdown",
   "id": "5d506f39",
   "metadata": {
    "vscode": {
     "languageId": "raw"
    }
   },
   "source": [
    "---\n",
    "layout: default\n",
    "title: NestedConditionalsPY Homework\n",
    "description: This is Akhil's homework/hacks for the Nested Conditionals lesson for Python\n",
    "categories: ['Lessons']\n",
    "permalink: /github/pages/NestedConditionalsPY_HW\n",
    "breadcrumb: True\n",
    "---"
   ]
  },
  {
   "cell_type": "markdown",
   "id": "3a5fd5c2",
   "metadata": {},
   "source": [
    "# Nested Conditionals Python Homework\n",
    "---\n",
    "## Python Popcorn Hack"
   ]
  },
  {
   "cell_type": "code",
   "execution_count": null,
   "id": "f8d935d2",
   "metadata": {},
   "outputs": [],
   "source": [
    "weather = \"rainy\"\n",
    "temperature = 50\n",
    "\n",
    "# Filled in code\n",
    "if weather == \"sunny\":\n",
    "    if temperature >= 70:  # fill in missing operator\n",
    "        print(\"Nice and warm outside!\")  # fill in missing string\n",
    "    else:\n",
    "        print(\"Could be a bit chilly, wear a jacket!\")\n",
    "else:\n",
    "    if weather == \"rainy\":   # fill in missing word\n",
    "        print(\"☔ Don't forget your umbrella!\")\n",
    "    else:\n",
    "        print(\"Enjoy your day!\")  # fill in missing string\n"
   ]
  },
  {
   "cell_type": "markdown",
   "id": "ae4e9520",
   "metadata": {},
   "source": [
    "### Part A: Python Practice\n",
    "Write a code cell that helps decide what type of transportation someone should take.\n",
    "\n",
    "- If the **weather** is `\"rainy\"`:  \n",
    "  - If they have an umbrella -> print `\"Take the bus!\"`  \n",
    "  - If they don’t -> print `\"Call an Uber!\"`  \n",
    "- If the **weather** is `\"sunny\"`:  \n",
    "  - If they have a bike -> print `\"Bike!\"`  \n",
    "  - If they don’t -> print `\"Walk!\"`  \n",
    "\n",
    "---\n",
    "\n",
    "### Example Starter Code "
   ]
  },
  {
   "cell_type": "code",
   "execution_count": null,
   "id": "23a860e1",
   "metadata": {},
   "outputs": [],
   "source": [
    "weather = \"sunny\"\n",
    "has_umbrella = False\n",
    "has_bike = True\n"
   ]
  },
  {
   "cell_type": "code",
   "execution_count": null,
   "id": "3dea2a33",
   "metadata": {},
   "outputs": [],
   "source": [
    "# Write your nested conditionals here!\n",
    "# Part A: Python Practice\n",
    "\n",
    "weather = \"sunny\"\n",
    "has_umbrella = False\n",
    "has_bike = True\n",
    "\n",
    "if weather == \"rainy\":\n",
    "    if has_umbrella:\n",
    "        print(\"Take the bus!\")\n",
    "    else:\n",
    "        print(\"Call an Uber!\")\n",
    "elif weather == \"sunny\":\n",
    "    if has_bike:\n",
    "        print(\"Bike!\")\n",
    "    else:\n",
    "        print(\"Walk!\")"
   ]
  }
 ],
 "metadata": {
  "language_info": {
   "name": "python"
  }
 },
 "nbformat": 4,
 "nbformat_minor": 5
}
