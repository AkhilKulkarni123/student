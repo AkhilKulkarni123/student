{
 "cells": [
  {
   "cell_type": "markdown",
   "id": "8bf63699",
   "metadata": {},
   "source": [
    "---\n",
    "layout: default\n",
    "title: VariablesPY Homework\n",
    "description: This is Akhil's homework/hacks for the variables lesson for python\n",
    "categories: ['Lessons']\n",
    "permalink: /github/pages/VariablesPY_HW\n",
    "breadcrumb: True\n",
    "---"
   ]
  },
  {
   "cell_type": "code",
   "execution_count": null,
   "id": "fa893a9e",
   "metadata": {
    "vscode": {
     "languageId": "javascript"
    }
   },
   "outputs": [],
   "source": [
    "// Step 1: Edit the students list\n",
    "let students = [\"Akhil\", \"Rudra\", \"Samarth\", \"Shayan\", \"Darshan\"];\n",
    "\n",
    "// Step 2: Edit the scores list\n",
    "let scores = [95, 88, 76, 92, 84];\n",
    "\n",
    "// Output class roster with scores\n",
    "console.log(\"📋 Class Roster:\");\n",
    "for (let i = 0; i < students.length; i++) {\n",
    "  console.log(students[i] + \" scored \" + scores[i]);\n",
    "}\n",
    "\n",
    "// 🚀 Hack Challenge\n",
    "// New list of favorite foods\n",
    "let favoriteFoods = [\"Pizza\", \"Burgers\", \"Tacos\", \"Sushi\", \"Pasta\"];\n",
    "\n",
    "// Output each food\n",
    "console.log(\"\\n🍴 My Favorite Foods:\");\n",
    "for (let i = 0; i < favoriteFoods.length; i++) {\n",
    "  console.log(favoriteFoods[i]);\n",
    "}\n",
    "\n",
    "// Another example: list of video games\n",
    "let videoGames = [\"Minecraft\", \"Fortnite\", \"Zelda\", \"Mario Kart\"];\n",
    "\n",
    "// Output each game\n",
    "console.log(\"\\n🎮 My Favorite Video Games:\");\n",
    "for (let i = 0; i < videoGames.length; i++) {\n",
    "  console.log(videoGames[i]);\n",
    "}\n"
   ]
  }
 ],
 "metadata": {
  "language_info": {
   "name": "python"
  }
 },
 "nbformat": 4,
 "nbformat_minor": 5
}
