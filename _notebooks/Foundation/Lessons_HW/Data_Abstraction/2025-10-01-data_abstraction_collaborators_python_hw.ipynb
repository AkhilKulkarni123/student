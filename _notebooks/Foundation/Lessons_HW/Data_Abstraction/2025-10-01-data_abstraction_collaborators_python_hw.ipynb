{
 "cells": [
  {
   "cell_type": "markdown",
   "metadata": {
    "vscode": {
     "languageId": "raw"
    }
   },
   "source": [
    "---\n",
    "layout: default\n",
    "title: MathExpressionsPY Homework\n",
    "description: This is Akhil's homework/hacks for the MathExpressions lesson for python\n",
    "categories: ['Lessons']\n",
    "permalink: /github/pages/Data_AbstractionPY_HW\n",
    "breadcrumb: True\n",
    "---"
   ]
  },
  {
   "cell_type": "code",
   "execution_count": 1,
   "metadata": {},
   "outputs": [
    {
     "name": "stdout",
     "output_type": "stream",
     "text": [
      "Students: Akhil, Shayan, Samarth, Rudra, Darshan\n",
      "First student: Akhil - 88\n",
      "After adding Dana: Akhil, Shayan, Samarth, Rudra, Darshan, Dana\n",
      "After removing Samarth: Akhil, Shayan, Rudra, Darshan, Dana\n",
      "\n",
      "Final Scores:\n",
      "Akhil - 93\n",
      "Shayan - 97\n",
      "Rudra - 90\n",
      "Darshan - 95\n",
      "Dana - 100\n",
      "\n",
      "Favorite Foods:\n",
      "Pizza\n",
      "Noodles\n",
      "Biryani\n",
      "Burgers\n",
      "Ice Cream\n"
     ]
    }
   ],
   "source": [
    "# 📝 Data Abstraction Hack (Python Version)\n",
    "\n",
    "# --- Instructions ---\n",
    "# 1. Edit the `students` list to use your own names (friends, classmates, etc.).\n",
    "# 2. Edit the `scores` list to assign each student a score of your choice.\n",
    "# 3. Run this program to see how the output changes automatically.\n",
    "# 4. After experimenting with `students` and `scores`, complete the 🚀 Hack Challenge at the bottom.\n",
    "\n",
    "# --- 1. Define lists ---\n",
    "# 📝 Data Abstraction Hack (Python Version) - Completed\n",
    "\n",
    "# --- 1. Define lists ---\n",
    "students = [\"Akhil\", \"Shayan\", \"Samarth\", \"Rudra\", \"Darshan\"]\n",
    "scores = [88, 92, 75, 85, 90]  # Assign any scores you like\n",
    "\n",
    "# --- 2. Print roster ---\n",
    "print(\"Students:\", \", \".join(students))\n",
    "\n",
    "# --- 3. Print first student and score ---\n",
    "print(\"First student:\", students[0], \"-\", scores[0])\n",
    "\n",
    "# --- 4. Add a new student and score ---\n",
    "students.append(\"Dana\")  # You can keep or replace this\n",
    "scores.append(95)\n",
    "print(\"After adding Dana:\", \", \".join(students))\n",
    "\n",
    "# --- 5. Remove a student who transfers out ---\n",
    "if \"Samarth\" in students:\n",
    "    index = students.index(\"Samarth\")\n",
    "    students.pop(index)\n",
    "    scores.pop(index)\n",
    "print(\"After removing Samarth:\", \", \".join(students))\n",
    "\n",
    "# --- 6. Curve all scores by +5 ---\n",
    "for i in range(len(scores)):\n",
    "    scores[i] += 5\n",
    "\n",
    "# --- 7. Print each student with score ---\n",
    "print(\"\\nFinal Scores:\")\n",
    "for i in range(len(students)):\n",
    "    print(students[i], \"-\", scores[i])\n",
    "\n",
    "# --- 8. Hack Challenge: create new list ---\n",
    "favorite_foods = [\"Sushi\", \"Falafel\", \"Hotdogs\"]\n",
    "favorite_foods = [\"Pizza\", \"Noodles\", \"Biryani\", \"Burgers\", \"Ice Cream\"] # New List added\n",
    "\n",
    "print(\"\\nFavorite Foods:\")\n",
    "for food in favorite_foods:\n",
    "    print(food)\n"
   ]
  }
 ],
 "metadata": {
  "kernelspec": {
   "display_name": "venv",
   "language": "python",
   "name": "python3"
  },
  "language_info": {
   "codemirror_mode": {
    "name": "ipython",
    "version": 3
   },
   "file_extension": ".py",
   "mimetype": "text/x-python",
   "name": "python",
   "nbconvert_exporter": "python",
   "pygments_lexer": "ipython3",
   "version": "3.9.6"
  }
 },
 "nbformat": 4,
 "nbformat_minor": 2
}
