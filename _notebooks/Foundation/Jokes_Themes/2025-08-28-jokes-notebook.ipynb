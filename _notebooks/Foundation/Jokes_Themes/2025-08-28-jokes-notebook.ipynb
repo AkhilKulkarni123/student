{
 "cells": [
  {
   "cell_type": "markdown",
   "id": "83e19261",
   "metadata": {},
   "source": [
    "---\n",
    "layout: post\n",
    "title: Jokes\n",
    "description: This page contains both sets of jokes from pages and changed versios of them as well.\n",
    "permalink: /jokes\n",
    "breadcrumb: True\n",
    "---"
   ]
  },
  {
   "cell_type": "code",
   "execution_count": 8,
   "id": "626bb2f8",
   "metadata": {
    "vscode": {
     "languageId": "javascript"
    }
   },
   "outputs": [
    {
     "data": {
      "application/javascript": "console.log(\"There are 10 types of people in class, those who get corrupted and those who get KASM working.\" );\n",
      "text/plain": [
       "<IPython.core.display.Javascript object>"
      ]
     },
     "metadata": {},
     "output_type": "display_data"
    }
   ],
   "source": [
    "%%js\n",
    "console.log(\"There are 10 types of people in class, those who get corrupted and those who get KASM working.\" );"
   ]
  },
  {
   "cell_type": "markdown",
   "id": "49149720",
   "metadata": {},
   "source": [
    "# Jokes pulled from pages repository"
   ]
  },
  {
   "cell_type": "code",
   "execution_count": 1,
   "id": "57237760",
   "metadata": {
    "vscode": {
     "languageId": "javascript"
    }
   },
   "outputs": [
    {
     "data": {
      "application/javascript": "\nvar compsci_joke_list = [\n    { joke: \"Why do programmers prefer dark mode? Because light attracts bugs.\", complexity: \"1\" },\n    { joke: \"Why do Java developers wear glasses? Because they don't see sharp.\", complexity: \"2\" },\n    { joke: \"How many programmers does it take to change a light bulb? None, that's a hardware problem.\", complexity: \"1\" },\n    { joke: \"Why do Python programmers prefer snake_case? Because they can't C.\", complexity: \"2\" },\n    { joke: \"Why was the JavaScript developer sad? Because he didn't know how to 'null' his feelings.\", complexity: \"3\" },\n    { joke: \"Why do programmers always mix up Christmas and Halloween? Because Oct 31 == Dec 25.\", complexity: \"3\" },\n    { joke: \"Why did the programmer quit his job? Because he didn't get arrays.\", complexity: \"O(n)\" },\n    { joke: \"Why do Linux programmers prefer using the terminal? Because they don't like Windows.\", complexity: \"1\" },\n];\nvar randomIndex = Math.floor(Math.random() * compsci_joke_list.length);\nvar selectedJoke = compsci_joke_list[randomIndex];\nconsole.log(\"Joke #\" + (randomIndex + 1) + \": \" + selectedJoke.joke + \" (Complexity: \" + selectedJoke.complexity + \")\");\n",
      "text/plain": [
       "<IPython.core.display.Javascript object>"
      ]
     },
     "metadata": {},
     "output_type": "display_data"
    }
   ],
   "source": [
    "%%javascript\n",
    "\n",
    "var compsci_joke_list = [\n",
    "    { joke: \"Why do programmers prefer dark mode? Because light attracts bugs.\", complexity: \"1\" },\n",
    "    { joke: \"Why do Java developers wear glasses? Because they don't see sharp.\", complexity: \"2\" },\n",
    "    { joke: \"How many programmers does it take to change a light bulb? None, that's a hardware problem.\", complexity: \"1\" },\n",
    "    { joke: \"Why do Python programmers prefer snake_case? Because they can't C.\", complexity: \"2\" },\n",
    "    { joke: \"Why was the JavaScript developer sad? Because he didn't know how to 'null' his feelings.\", complexity: \"3\" },\n",
    "    { joke: \"Why do programmers always mix up Christmas and Halloween? Because Oct 31 == Dec 25.\", complexity: \"3\" },\n",
    "    { joke: \"Why did the programmer quit his job? Because he didn't get arrays.\", complexity: \"O(n)\" },\n",
    "    { joke: \"Why do Linux programmers prefer using the terminal? Because they don't like Windows.\", complexity: \"1\" },\n",
    "];\n",
    "var randomIndex = Math.floor(Math.random() * compsci_joke_list.length);\n",
    "var selectedJoke = compsci_joke_list[randomIndex];\n",
    "console.log(\"Joke #\" + (randomIndex + 1) + \": \" + selectedJoke.joke + \" (Complexity: \" + selectedJoke.complexity + \")\");"
   ]
  },
  {
   "cell_type": "markdown",
   "id": "2994b08a",
   "metadata": {},
   "source": [
    "# Revamped Code Jokes"
   ]
  },
  {
   "cell_type": "code",
   "execution_count": 2,
   "id": "5b53ba89",
   "metadata": {
    "vscode": {
     "languageId": "javascript"
    }
   },
   "outputs": [
    {
     "data": {
      "application/javascript": "\nvar compsci_joke_list = [\n    { joke: \"There are 10 types of people in the world—those who understand binary and those who don’t.\", complexity: \"1\" },\n    { joke: \"I’d tell you a UDP joke, but I’m not sure you’d get it.\", complexity: \"2\" },\n    { joke: \"Why do programmers always mix up Halloween and Christmas? Because Oct 31 == Dec 25.\", complexity: \"2\" },\n    { joke: \"A programmer’s wife told him: “Go to the store and buy a gallon of milk. If they have eggs, get a dozen.” He came home with 12 gallons of milk. “They had eggs.”\", complexity: \"3\" },\n    { joke: \"An SQL query walks into a bar, walks up to two tables and asks: 'Can I join you?'\", complexity: \"2\" },\n    { joke: \"Why did the Java methods get a divorce? Because they had constant arguments.\", complexity: \"3\" },\n    { joke: \"How do robots eat pizza? One byte at a time.\", complexity: \"1\" },\n    { joke: \"Q. What does the R in recursion stand for? A. Recursion.\", complexity: \"O(n)\" },\n];\n\nvar randomIndex = Math.floor(Math.random() * compsci_joke_list.length);\nvar selectedJoke = compsci_joke_list[randomIndex];\nconsole.log(\"Joke #\" + (randomIndex + 1) + \": \" + selectedJoke.joke + \" (Complexity: \" + selectedJoke.complexity + \")\");\n",
      "text/plain": [
       "<IPython.core.display.Javascript object>"
      ]
     },
     "metadata": {},
     "output_type": "display_data"
    }
   ],
   "source": [
    "%%javascript\n",
    "\n",
    "var compsci_joke_list = [\n",
    "    { joke: \"There are 10 types of people in the world—those who understand binary and those who don’t.\", complexity: \"1\" },\n",
    "    { joke: \"I’d tell you a UDP joke, but I’m not sure you’d get it.\", complexity: \"2\" },\n",
    "    { joke: \"Why do programmers always mix up Halloween and Christmas? Because Oct 31 == Dec 25.\", complexity: \"2\" },\n",
    "    { joke: \"A programmer’s wife told him: “Go to the store and buy a gallon of milk. If they have eggs, get a dozen.” He came home with 12 gallons of milk. “They had eggs.”\", complexity: \"3\" },\n",
    "    { joke: \"An SQL query walks into a bar, walks up to two tables and asks: 'Can I join you?'\", complexity: \"2\" },\n",
    "    { joke: \"Why did the Java methods get a divorce? Because they had constant arguments.\", complexity: \"3\" },\n",
    "    { joke: \"How do robots eat pizza? One byte at a time.\", complexity: \"1\" },\n",
    "    { joke: \"Q. What does the R in recursion stand for? A. Recursion.\", complexity: \"O(n)\" },\n",
    "];\n",
    "\n",
    "var randomIndex = Math.floor(Math.random() * compsci_joke_list.length);\n",
    "var selectedJoke = compsci_joke_list[randomIndex];\n",
    "console.log(\"Joke #\" + (randomIndex + 1) + \": \" + selectedJoke.joke + \" (Complexity: \" + selectedJoke.complexity + \")\");\n"
   ]
  },
  {
   "cell_type": "markdown",
   "id": "211923c8",
   "metadata": {},
   "source": [
    "# Accounting Jokes pulled from pages repository"
   ]
  },
  {
   "cell_type": "code",
   "execution_count": 3,
   "id": "9a09c973",
   "metadata": {
    "vscode": {
     "languageId": "javascript"
    }
   },
   "outputs": [
    {
     "data": {
      "application/javascript": "\nvar accounting_joke_list = [\n    \"Why did the accountant cross the road? To bore the people on the other side.\",\n    \"What do accountants do when they're constipated? They work it out with a pencil.\",\n    \"How does an accountant stay out of debt? He learns to act his wage.\",\n    \"Why did the accountant stare at his glass of orange juice for three hours? Because on the box it said 'concentrate'.\",\n    \"Why did the accountant get promoted? Because he knew how to balance his work and play.\",\n    \"Why did the accountant go broke? Because he lost his balance.\",\n    \"Why did the accountant get a job at the bakery? Because he was good at making dough.\",\n    \"Why did the accountant get a job at the zoo? Because he was good with cheetahs.\",\n    \"Why did the accountant get a job at the library? Because he was good at keeping books.\",\n    \"Why did the accountant get a job at the circus? Because he was good at juggling numbers.\",\n    \"Why did the accountant get a job at the gym? Because he was good at working out the numbers.\",\n    \"Why did the accountant get a job at the farm? Because he was good at counting the chickens before they hatched.\"\n]\nvar randomIndex = Math.floor(Math.random() * accounting_joke_list.length);\nconsole.log(\"Joke #\" + (randomIndex + 1) + \": \" + accounting_joke_list[randomIndex]);\n",
      "text/plain": [
       "<IPython.core.display.Javascript object>"
      ]
     },
     "metadata": {},
     "output_type": "display_data"
    }
   ],
   "source": [
    "%%javascript\n",
    "\n",
    "var accounting_joke_list = [\n",
    "    \"Why did the accountant cross the road? To bore the people on the other side.\",\n",
    "    \"What do accountants do when they're constipated? They work it out with a pencil.\",\n",
    "    \"How does an accountant stay out of debt? He learns to act his wage.\",\n",
    "    \"Why did the accountant stare at his glass of orange juice for three hours? Because on the box it said 'concentrate'.\",\n",
    "    \"Why did the accountant get promoted? Because he knew how to balance his work and play.\",\n",
    "    \"Why did the accountant go broke? Because he lost his balance.\",\n",
    "    \"Why did the accountant get a job at the bakery? Because he was good at making dough.\",\n",
    "    \"Why did the accountant get a job at the zoo? Because he was good with cheetahs.\",\n",
    "    \"Why did the accountant get a job at the library? Because he was good at keeping books.\",\n",
    "    \"Why did the accountant get a job at the circus? Because he was good at juggling numbers.\",\n",
    "    \"Why did the accountant get a job at the gym? Because he was good at working out the numbers.\",\n",
    "    \"Why did the accountant get a job at the farm? Because he was good at counting the chickens before they hatched.\"\n",
    "]\n",
    "var randomIndex = Math.floor(Math.random() * accounting_joke_list.length);\n",
    "console.log(\"Joke #\" + (randomIndex + 1) + \": \" + accounting_joke_list[randomIndex]);"
   ]
  },
  {
   "cell_type": "markdown",
   "id": "01ba5958",
   "metadata": {},
   "source": [
    "# Revamped Accounting Jokes"
   ]
  },
  {
   "cell_type": "code",
   "execution_count": 4,
   "id": "4e80cc49",
   "metadata": {
    "vscode": {
     "languageId": "javascript"
    }
   },
   "outputs": [
    {
     "data": {
      "application/javascript": "\nvar accounting_joke_list = [\n    \"Why don’t accountants play hide and seek? Because good luck hiding when they’re always looking for balance.\",\n    \"Why was the accountant always calm? Because he had strong internal controls.\",\n    \"Why did the accountant bring a ladder to work? To reach new levels of interest.\",\n    \"Why do auditors love puns? Because they’re material to the joke.\",\n    \"Why did the accountant break up with the calculator? She felt he was just a number-cruncher.\",\n    \"Why did the tax accountant make a great musician? Because he knew how to handle notes and deductions.\",\n    \"Why did the accountant get locked out? Because he lost his key figures.\",\n    \"Why did the CPA go broke? Too many outstanding issues.\",\n    \"Why did the accountant carry a pencil everywhere? In case he needed to draw the line.\",\n    \"Why don’t accountants ever get sunburned? They have plenty of shade in the ledger.\",\n    \"Why did the accountant get into gardening? He loved working with growing assets.\",\n    \"Why do accountants make bad comedians? Their timing is accrual problem.\"\n]\nvar randomIndex = Math.floor(Math.random() * accounting_joke_list.length);\nconsole.log(\"Joke #\" + (randomIndex + 1) + \": \" + accounting_joke_list[randomIndex]);\n",
      "text/plain": [
       "<IPython.core.display.Javascript object>"
      ]
     },
     "metadata": {},
     "output_type": "display_data"
    }
   ],
   "source": [
    "%%javascript\n",
    "\n",
    "var accounting_joke_list = [\n",
    "    \"Why don’t accountants play hide and seek? Because good luck hiding when they’re always looking for balance.\",\n",
    "    \"Why was the accountant always calm? Because he had strong internal controls.\",\n",
    "    \"Why did the accountant bring a ladder to work? To reach new levels of interest.\",\n",
    "    \"Why do auditors love puns? Because they’re material to the joke.\",\n",
    "    \"Why did the accountant break up with the calculator? She felt he was just a number-cruncher.\",\n",
    "    \"Why did the tax accountant make a great musician? Because he knew how to handle notes and deductions.\",\n",
    "    \"Why did the accountant get locked out? Because he lost his key figures.\",\n",
    "    \"Why did the CPA go broke? Too many outstanding issues.\",\n",
    "    \"Why did the accountant carry a pencil everywhere? In case he needed to draw the line.\",\n",
    "    \"Why don’t accountants ever get sunburned? They have plenty of shade in the ledger.\",\n",
    "    \"Why did the accountant get into gardening? He loved working with growing assets.\",\n",
    "    \"Why do accountants make bad comedians? Their timing is accrual problem.\"\n",
    "]\n",
    "var randomIndex = Math.floor(Math.random() * accounting_joke_list.length);\n",
    "console.log(\"Joke #\" + (randomIndex + 1) + \": \" + accounting_joke_list[randomIndex]);\n"
   ]
  }
 ],
 "metadata": {
  "kernelspec": {
   "display_name": "venv",
   "language": "python",
   "name": "python3"
  },
  "language_info": {
   "codemirror_mode": {
    "name": "ipython",
    "version": 3
   },
   "file_extension": ".py",
   "mimetype": "text/x-python",
   "name": "python",
   "nbconvert_exporter": "python",
   "pygments_lexer": "ipython3",
   "version": "3.9.6"
  }
 },
 "nbformat": 4,
 "nbformat_minor": 5
}
