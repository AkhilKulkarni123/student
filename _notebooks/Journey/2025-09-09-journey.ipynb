{
 "cells": [
  {
   "cell_type": "markdown",
   "id": "e5393274",
   "metadata": {},
   "source": [
    "---\n",
    "layout: default\n",
    "title: My Journey So Far in CSP\n",
    "description: This page contains all the Tools/Experience I've Gained in AP CSP, and hacks/achievements I've done so far\n",
    "categories: ['Journey']\n",
    "permalink: /journey\n",
    "breadcrumb: True\n",
    "---"
   ]
  },
  {
   "cell_type": "markdown",
   "id": "e97275c8",
   "metadata": {},
   "source": [
    "# My Journey In the Past 5 weeks in AP CSP"
   ]
  },
  {
   "cell_type": "markdown",
   "id": "06877a65",
   "metadata": {},
   "source": [
    "# Tools and Equipment "
   ]
  },
  {
   "cell_type": "markdown",
   "id": "f541dfb3",
   "metadata": {},
   "source": [
    "First, we installed all tools and equipment required\n",
    "\n",
    "1. Homebrew Installation\n",
    "2. X-Code Installation\n",
    "3. Terminal and basic commands (mkdir, cd, git clone)\n",
    "4. Version Installation and Checks\n",
    "5. VSCode Installation and Repository Set up\n",
    "6. Running venv and make commands for localhost\n",
    "7. Getting git for commits to enable actions and analytics"
   ]
  },
  {
   "cell_type": "markdown",
   "id": "3d2e5da0",
   "metadata": {},
   "source": [
    "Homebrew installation - /bin/bash -c \"$(curl -fsSL https://raw.githubusercontent.com/Homebrew/install/HEAD/install.sh)\""
   ]
  },
  {
   "cell_type": "markdown",
   "id": "dfcccd06",
   "metadata": {},
   "source": [
    "Install VSCode"
   ]
  },
  {
   "cell_type": "markdown",
   "id": "c2a3f235",
   "metadata": {},
   "source": [
    "Terminal Setup commands:"
   ]
  },
  {
   "cell_type": "code",
   "execution_count": null,
   "id": "590b0d64",
   "metadata": {
    "vscode": {
     "languageId": "shellscript"
    }
   },
   "outputs": [],
   "source": [
    "mkdir opencs\n",
    "cd opencs\n",
    "git clone https://github.com/Open-Coding-Society/student.git\n",
    "cd student/\n",
    "./scripts/activate_macos.sh\n",
    "./scripts/activate.sh # prompts for Git UID and Personal Email\n",
    "./scripts/venv.sh"
   ]
  },
  {
   "cell_type": "markdown",
   "id": "103f9c58",
   "metadata": {},
   "source": [
    "Setup Checks:"
   ]
  },
  {
   "cell_type": "code",
   "execution_count": null,
   "id": "00f98915",
   "metadata": {
    "vscode": {
     "languageId": "shellscript"
    }
   },
   "outputs": [],
   "source": [
    "python --version\n",
    "pip --version\n",
    "ruby -v\n",
    "bundle -v\n",
    "gem --version\n",
    "git config --global --list"
   ]
  },
  {
   "cell_type": "markdown",
   "id": "619d4427",
   "metadata": {},
   "source": [
    "VSCode Space from Terminal and Virtual Environment Setup:"
   ]
  },
  {
   "cell_type": "code",
   "execution_count": null,
   "id": "d85fcde1",
   "metadata": {
    "vscode": {
     "languageId": "shellscript"
    }
   },
   "outputs": [],
   "source": [
    "cd opencs/student\n",
    "source venv/bin/activate # activate Python virtual environment\n",
    "code ."
   ]
  },
  {
   "cell_type": "markdown",
   "id": "442c22e9",
   "metadata": {},
   "source": [
    "# Github Pages and Repository"
   ]
  },
  {
   "cell_type": "markdown",
   "id": "f38d03ab",
   "metadata": {},
   "source": [
    "1. Created a student repository on github and git cloned to terminal, from where I opened on VSCode\n",
    "2. Enabled actions through setting\n",
    "3. Tested commits from VSCode like changing about, and changing theme through config.yml and make help on student and pages repositories"
   ]
  },
  {
   "cell_type": "markdown",
   "id": "b5b8d923",
   "metadata": {},
   "source": [
    "# Change/Hack 1 - Student Repository Commits"
   ]
  },
  {
   "cell_type": "markdown",
   "id": "9f23f3b4",
   "metadata": {},
   "source": [
    "Changing navigation/about.md\n",
    "Changed the flags and customized descriptions"
   ]
  },
  {
   "cell_type": "markdown",
   "id": "70acf70b",
   "metadata": {},
   "source": [
    "![My Updated about.md Page](images/screenshot.png)"
   ]
  },
  {
   "cell_type": "raw",
   "id": "ba1920ba",
   "metadata": {
    "vscode": {
     "languageId": "raw"
    }
   },
   "source": [
    "Changed the index.md to include a button linking to my about page:"
   ]
  },
  {
   "cell_type": "code",
   "execution_count": null,
   "id": "206949ee",
   "metadata": {
    "vscode": {
     "languageId": "html"
    }
   },
   "outputs": [],
   "source": [
    "\n",
    "<a href=\"{{ site.baseurl }}/student/navigation/about.html\" class=\"button small\" style=\"background-color: #9C27B0; margin-top: 10px;\">\n",
    "    <span style=\"color: #FFFFFF\">About Me</span>\n",
    "</a>\n"
   ]
  },
  {
   "cell_type": "markdown",
   "id": "d6a90355",
   "metadata": {},
   "source": [
    "# Draggin and Dropping Jupyter Notebooks from Pages Repository"
   ]
  },
  {
   "cell_type": "markdown",
   "id": "04d497ce",
   "metadata": {},
   "source": [
    "Moved the github jokes notebook from pages to my student repository."
   ]
  },
  {
   "cell_type": "markdown",
   "id": "3206f2cb",
   "metadata": {},
   "source": [
    "In the Notebooks I customized it and worked with outputs: \n",
    "\n",
    "Opened and ran Jupyter Notebooks in VS Code\n",
    "\n",
    "-Practiced with the Jokes.ipynb notebook and converted results into HTML format\n",
    "\n",
    "-Added my own revampled jokes in a separate file"
   ]
  },
  {
   "cell_type": "markdown",
   "id": "9be53f79",
   "metadata": {},
   "source": [
    "# Changing Themes"
   ]
  },
  {
   "cell_type": "markdown",
   "id": "7b386286",
   "metadata": {},
   "source": [
    "I changed the theme using make commands in pages to cayman from terminal:"
   ]
  },
  {
   "cell_type": "code",
   "execution_count": null,
   "id": "5c1cde16",
   "metadata": {
    "vscode": {
     "languageId": "shellscript"
    }
   },
   "outputs": [],
   "source": [
    "make help\n",
    "make serve-yat\n",
    "make build-cayman"
   ]
  },
  {
   "cell_type": "markdown",
   "id": "a07c1572",
   "metadata": {},
   "source": [
    "I also was able to change the theme in my own student repository to cayman as well through config.yml and remote theme:"
   ]
  },
  {
   "cell_type": "code",
   "execution_count": null,
   "id": "34028e46",
   "metadata": {
    "vscode": {
     "languageId": "shellscript"
    }
   },
   "outputs": [],
   "source": [
    "remote_theme: pages-themes/cayman@v0.2.0"
   ]
  },
  {
   "cell_type": "markdown",
   "id": "8ce51f84",
   "metadata": {},
   "source": [
    "![Theme Changed in Student Repository](images/theme.png)"
   ]
  },
  {
   "cell_type": "markdown",
   "id": "06e29c64",
   "metadata": {},
   "source": [
    "# Changing background and modifying the sprites and backgrounds "
   ]
  },
  {
   "cell_type": "markdown",
   "id": "d59f5631",
   "metadata": {},
   "source": [
    "I first ran wget commands to get the sprite/background and background.md file for the game and rendering from pages repo to my student repo."
   ]
  },
  {
   "cell_type": "code",
   "execution_count": null,
   "id": "8d93f294",
   "metadata": {
    "vscode": {
     "languageId": "shellscript"
    }
   },
   "outputs": [],
   "source": [
    "sprite: /images/platformer/sprites/flying-ufo.png\n",
    "background: /images/platformer/backgrounds/alien_planet1.jpg\n",
    "```\n",
    "\n",
    "Obtains assets for project using VSCode terminal\n",
    "\n",
    "```bash\n",
    "mkdir -p hacks\n",
    "wget https://raw.githubusercontent.com/Open-Coding-Society/pages/refs/heads/main/hacks/background.md -O hacks/background.md\n",
    "```\n",
    "\n",
    "\n",
    "```bash\n",
    "mkdir -p images/platformer/sprites\n",
    "wget https://raw.githubusercontent.com/Open-Coding-Society/pages/refs/heads/main/images/platformer/sprites/flying-ufo.png -O images/platformer/sprites/flying-ufo.png\n",
    "```\n",
    "\n",
    "```bash\n",
    "mkdir -p images/platformer/backgrounds \n",
    "wget https://raw.githubusercontent.com/Open-Coding-Society/pages/refs/heads/main/images/platformer/backgrounds/alien_planet1.jpg -O images/platformer/backgrounds/alien_planet1.jpg"
   ]
  },
  {
   "cell_type": "markdown",
   "id": "488a2739",
   "metadata": {},
   "source": [
    "Once all files were obtained, I adjusted the paths by removing the \"/\" in images, and changed the layout to fit the theme"
   ]
  },
  {
   "cell_type": "markdown",
   "id": "00e799de",
   "metadata": {},
   "source": [
    "# Customizating"
   ]
  },
  {
   "cell_type": "markdown",
   "id": "6eee93eb",
   "metadata": {},
   "source": [
    "I uploaded 2 different images in the platformer folder:\n",
    "\n",
    "1. map.jpg\n",
    "2. nerd.png"
   ]
  },
  {
   "cell_type": "markdown",
   "id": "216e889f",
   "metadata": {},
   "source": [
    "Then, I changed the path in background.md on the frontmatter for the sprite sheet and background to these file names instead to render them on the moving background."
   ]
  },
  {
   "cell_type": "code",
   "execution_count": null,
   "id": "9f4ff78f",
   "metadata": {
    "vscode": {
     "languageId": "shellscript"
    }
   },
   "outputs": [],
   "source": [
    "---\n",
    "layout: default\n",
    "title: Background with Object\n",
    "description: Use JavaScript to have an in motion background.\n",
    "sprite: images/platformer/sprites/nerd.png\n",
    "background: images/platformer/backgrounds/map.jpg\n",
    "permalink: /background\n",
    "---"
   ]
  },
  {
   "cell_type": "markdown",
   "id": "615ec7b8",
   "metadata": {},
   "source": [
    "![Changed background and Sprites in background in student repo](images/changes.png)"
   ]
  }
 ],
 "metadata": {
  "kernelspec": {
   "display_name": "venv",
   "language": "python",
   "name": "python3"
  },
  "language_info": {
   "name": "python",
   "version": "3.9.6"
  }
 },
 "nbformat": 4,
 "nbformat_minor": 5
}
