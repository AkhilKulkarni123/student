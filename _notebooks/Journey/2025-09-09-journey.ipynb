{
 "cells": [
  {
   "cell_type": "markdown",
   "id": "e5393274",
   "metadata": {},
   "source": [
    "---\n",
    "layout: default\n",
    "title: My Journey So Far in CSP\n",
    "description: This page contains all the Tools/Experience I've Gained in AP CSP, and hacks/achievements I've done so far\n",
    "categories: ['Journey']\n",
    "permalink: /journey\n",
    "breadcrumb: True\n",
    "---"
   ]
  },
  {
   "cell_type": "markdown",
   "id": "e97275c8",
   "metadata": {},
   "source": [
    "# My Journey In the Past 5 weeks in AP CSP"
   ]
  },
  {
   "cell_type": "markdown",
   "id": "06877a65",
   "metadata": {},
   "source": [
    "# Tools and Equipment "
   ]
  },
  {
   "cell_type": "markdown",
   "id": "f541dfb3",
   "metadata": {},
   "source": [
    "First, we installed all tools and equipment required\n",
    "\n",
    "1. Homebrew Installation\n",
    "2. X-Code Installation\n",
    "3. Terminal and basic commands (mkdir, cd, git clone)\n",
    "4. Version Installation and Checks\n",
    "5. VSCode Installation and Repository Set up\n",
    "6. Running venv and make commands for localhost\n",
    "7. Getting git for commits to enable actions and analytics"
   ]
  },
  {
   "cell_type": "markdown",
   "id": "3d2e5da0",
   "metadata": {},
   "source": [
    "Homebrew installation - /bin/bash -c \"$(curl -fsSL https://raw.githubusercontent.com/Homebrew/install/HEAD/install.sh)\""
   ]
  },
  {
   "cell_type": "markdown",
   "id": "dfcccd06",
   "metadata": {},
   "source": [
    "Install VSCode"
   ]
  },
  {
   "cell_type": "markdown",
   "id": "c2a3f235",
   "metadata": {},
   "source": [
    "Terminal Setup commands:"
   ]
  },
  {
   "cell_type": "code",
   "execution_count": null,
   "id": "590b0d64",
   "metadata": {
    "vscode": {
     "languageId": "shellscript"
    }
   },
   "outputs": [],
   "source": [
    "mkdir opencs\n",
    "cd opencs\n",
    "git clone https://github.com/Open-Coding-Society/student.git\n",
    "cd student/\n",
    "./scripts/activate_macos.sh\n",
    "./scripts/activate.sh # prompts for Git UID and Personal Email\n",
    "./scripts/venv.sh"
   ]
  },
  {
   "cell_type": "markdown",
   "id": "103f9c58",
   "metadata": {},
   "source": [
    "Setup Checks:"
   ]
  },
  {
   "cell_type": "code",
   "execution_count": null,
   "id": "00f98915",
   "metadata": {
    "vscode": {
     "languageId": "shellscript"
    }
   },
   "outputs": [],
   "source": [
    "python --version\n",
    "pip --version\n",
    "ruby -v\n",
    "bundle -v\n",
    "gem --version\n",
    "git config --global --list"
   ]
  },
  {
   "cell_type": "markdown",
   "id": "619d4427",
   "metadata": {},
   "source": [
    "VSCode Space from Terminal and Virtual Environment Setup:"
   ]
  },
  {
   "cell_type": "code",
   "execution_count": null,
   "id": "d85fcde1",
   "metadata": {
    "vscode": {
     "languageId": "shellscript"
    }
   },
   "outputs": [],
   "source": [
    "cd opencs/student\n",
    "source venv/bin/activate # activate Python virtual environment\n",
    "code ."
   ]
  },
  {
   "cell_type": "markdown",
   "id": "442c22e9",
   "metadata": {},
   "source": [
    "# Github Pages and Repository"
   ]
  },
  {
   "cell_type": "markdown",
   "id": "f38d03ab",
   "metadata": {},
   "source": [
    "1. Created a student repository on github and git cloned to terminal, from where I opened on VSCode\n",
    "2. Enabled actions through setting\n",
    "3. Tested commits from VSCode like changing about, and changing theme through config.yml and make help on student and pages repositories"
   ]
  },
  {
   "cell_type": "markdown",
   "id": "b5b8d923",
   "metadata": {},
   "source": [
    "# Change/Hack 1 - Student Repository Commits"
   ]
  },
  {
   "cell_type": "markdown",
   "id": "9f23f3b4",
   "metadata": {},
   "source": [
    "Changing about.md"
   ]
  }
 ],
 "metadata": {
  "language_info": {
   "name": "python"
  }
 },
 "nbformat": 4,
 "nbformat_minor": 5
}
